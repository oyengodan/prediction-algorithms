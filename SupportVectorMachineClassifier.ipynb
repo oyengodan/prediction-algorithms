{
 "cells": [
  {
   "cell_type": "markdown",
   "metadata": {},
   "source": [
    "# Introduction\n",
    "\n",
    "Support vector machine (SVM) is a supervised learning algorithm that can be used to predict the label of future values, identify outliers, or generate regression models. For this implementation, we'll focus on SVM's classification application (SVC). \n",
    "\n",
    "Using SVC, you can transform overlapping categories into a 3-dimensional space that can be separated by hyperplane(s). SVC accuracy can be improved by the type of model used (linear, polynomial, etc.), slack variables, and the error penalty parameter (C). The higher the error penalty value, the more sensitive it is to the training data.\n",
    "\n",
    "\n",
    "## Assumptions\n",
    "\n",
    "SVM assumes that the probability distribution of the features are the same and that the features are mutually independent. The occurrence of one feature cannot impact the performance of another feature. There are multiple types of SVMs:\n",
    "\n",
    "* classification: for predicting a nominal (categorical) label\n",
    "\n",
    "* regression: for predicting continous variables\n",
    "\n",
    "* outlier detection\n",
    "\n",
    "\n",
    "## Non-Code Example\n",
    "\n",
    "Imagine we have two medical diagnoses: benign (non-cancerous) tumors and malignant (cancerous) tumors. Given the radius and concavity measurements for the 8 tumors below, what hyperplane can be used to distinguish the benign and malignant diagnoses?\n",
    "\n",
    "| Radius  | Concavity   | Diagnosis  |\n",
    "| ------- |-------------| :-----:|\n",
    "| 4       | 1           | Benign     |\n",
    "| 3       | -1          | Benign     |\n",
    "| 6       |1            | Benign     |\n",
    "| 6       |-1           | Benign     |\n",
    "| 1       |1            | Malignant     |\n",
    "| 0       |1            | Malignant     |\n",
    "| 0       |-1           | Malignant     |\n",
    "| -1      |0            | Malignant     |\n",
    "\n",
    "\n",
    "If we were plot these by hand, we would get the following plot:"
   ]
  },
  {
   "cell_type": "code",
   "execution_count": 126,
   "metadata": {
    "collapsed": false
   },
   "outputs": [
    {
     "data": {
      "image/png": "[encoded data removed]",
      "text/plain": [
       "<matplotlib.figure.Figure at 0x118a93a90>"
      ]
     },
     "metadata": {},
     "output_type": "display_data"
    }
   ],
   "source": [
    "import matplotlib.pyplot as plt\n",
    "from matplotlib import style\n",
    "import numpy as np\n",
    "\n",
    "benign = plt.scatter([4,3,6,6], [1,-1,1,-1], color='blue')\n",
    "malignant = plt.scatter([1,0,0,-1], [1,1,-1,0], color='red')\n",
    "\n",
    "# Add styling and axes\n",
    "style.use('seaborn-darkgrid')\n",
    "style.context(('dark_background'))\n",
    "plt.yticks(np.arange(-2, 3, 1.0))\n",
    "plt.axhline(y=0, lw=0.25, color='black')\n",
    "plt.axvline(x=0, lw=0.25, color='black')\n",
    "\n",
    "# Add labels\n",
    "plt.title('Radius and Concavity Measures of Malignant and Benign Tumors')\n",
    "plt.legend([benign, malignant], [\"Benign\", \"Malignant\"])\n",
    "plt.ylabel('Concavity')\n",
    "plt.xlabel('Radius')\n",
    "\n",
    "plt.show()"
   ]
  },
  {
   "cell_type": "markdown",
   "metadata": {},
   "source": [
    "From the plot, we notice that a linear hyperplane can be used to separate the benign and malignant tumors, with benign on the left and malignant on the right:\n",
    "\n",
    "Benign = [ (3,-1), (4,1) ]\n",
    "\n",
    "Malignant = [ (0,-1), (1,1) ]\n",
    "\n",
    "### Choosing the hyperplane\n",
    "\n",
    "In this simple case, we can seperate the points by defining the hyperplane separator as $w^Tx+b=0$ and the gutters as $w^Tx+b=-1$ and $w^Tx+b=1$. This makes our penalty parameter ($c$) as 1."
   ]
  },
  {
   "cell_type": "markdown",
   "metadata": {
    "collapsed": true
   },
   "source": [
    "To clearly separate the data using a hyperplane, we'll put the malignant and benign on a 3-dimensional space with planes to separate the boundaries. $\\overrightarrow{w}$ is the weight vector, $\\overrightarrow{x}$ the input vector, and $b$ the bias:\n",
    "\n",
    "Tip of malignant: $ \\overrightarrow{w} \\cdot \\overrightarrow{x} + b = 1$\n",
    "\n",
    "Tip of benign: $ \\overrightarrow{w} \\cdot \\overrightarrow{x} + b = -1$\n",
    "\n",
    "Hyperplane separator: $ \\overrightarrow{w} \\cdot \\overrightarrow{x} + b = 0$"
   ]
  },
  {
   "cell_type": "markdown",
   "metadata": {},
   "source": [
    "Now we can plugin our boundary values of:\n",
    "    \n",
    "Benign = [ (3,-1), (4,1) ]\n",
    "\n",
    "Malignant = [ (0,-1), (1,1) ]\n",
    "\n",
    "To solve for each of the weights:\n",
    "\n",
    "$Benign_1 = -1_{w1} + 3_{w2} + w3 = 1$\n",
    "\n",
    "$Benign_2 = 1_{w1} + 4_{w2} + w3 = 1$\n",
    "\n",
    "$Malignant_1 = -1_{w1} + 0_{w2} + w3 = -1$\n",
    "\n",
    "$Malignant_2 = 1_{w1} + 1_{w2} + w3 = -1$\n",
    "\n",
    "We can solve for $w1$ by subtracting $Benign_1 - Malignant_2$:\n",
    "\n",
    "$(1 + 1_{w1} - 3_{w2}) - (-1 - 1_{w1} - 1_{w2}) = -2_{w2} + 2{w1} + 2$\n",
    "\n",
    "$w1 = -1 + 1_{w2}$\n",
    "\n",
    "Next we'll substitute w1 in $Benign_2$ (the original equation) to solve for $w3$.\n",
    "\n",
    "$w3 = 2 - 5_{w2}$\n",
    "\n",
    "Now we can solve for $w2$ by plugging in the values to $Malignant_1$.\n",
    "\n",
    "$w2 = \\frac{2}{3}$\n",
    "\n",
    "Our final weights are:\n",
    "\n",
    "$w1 = -\\frac{1}{3}$\n",
    "\n",
    "$w2 = \\frac{2}{3}$\n",
    "\n",
    "$w3 = -\\frac{4}{3}$\n",
    "\n",
    "Our hyperplane separator is therefore:\n",
    "\n",
    "$-\\frac{1}{3}x+\\frac{2}{3}y-\\frac{4}{3} = 0$\n",
    "\n",
    "If we try to solve this computationally, we see that we get approximately the same weights and intercept:\n"
   ]
  },
  {
   "cell_type": "code",
   "execution_count": 127,
   "metadata": {
    "collapsed": false
   },
   "outputs": [
    {
     "name": "stdout",
     "output_type": "stream",
     "text": [
      "[-0.66681609  0.33363218]\n",
      "1.33363218391\n"
     ]
    },
    {
     "data": {
      "image/png": "[encoded data removed]",
      "text/plain": [
       "<matplotlib.figure.Figure at 0x120c3beb8>"
      ]
     },
     "metadata": {},
     "output_type": "display_data"
    }
   ],
   "source": [
    "from sklearn import svm\n",
    "\n",
    "X = np.array([[4,1],\n",
    "            [3,-1],\n",
    "            [6,1],\n",
    "            [6,-1],\n",
    "            [1,1],\n",
    "            [0,1],\n",
    "            [0,-1],\n",
    "            [-1,0]])\n",
    "y = [0,0,0,0,1,1,1,1]\n",
    "\n",
    "# Find seperating hyperplane\n",
    "model = svm.SVC(kernel='linear', C=1.0)\n",
    "model.fit(X,y)\n",
    "\n",
    "w = model.coef_[0]\n",
    "print(w)\n",
    "print(model.intercept_[0])\n",
    "\n",
    "# Graph the hyperplane\n",
    "a = -w[0] / w[1]\n",
    "xx = np.linspace(0,7)\n",
    "yy = a * xx - model.intercept_[0] / w[1]\n",
    "h0 = plt.plot(xx, yy, 'k-', label=\"non weighted hyperplane\")\n",
    "\n",
    "# Graph the points\n",
    "plt.scatter(X[:, 0], X[:, 1], c = y)\n",
    "\n",
    "# Add labels\n",
    "plt.title('Classification of Benign and Malignant Tumors using SVM')\n",
    "plt.ylabel('Concavity')\n",
    "plt.xlabel('Radius')\n",
    "plt.legend()\n",
    "plt.show()"
   ]
  },
  {
   "cell_type": "markdown",
   "metadata": {
    "collapsed": true
   },
   "source": [
    "# Detecting Breast Cancer Diagnoses using SVM and Python\n",
    "\n",
    "Now let's use a (larger) publically available dataset from the University of California Irvine ($n=699$) to detect breast cancer diagnoses based on multiple features ($n=9$) rather than just tumor radius and concavity. We'll exclude the sample code and class in our X matrix. \n",
    "\n",
    "This setup requires Python 3.\n",
    "\n",
    "The 699 cases, include the following features:\n",
    "\n",
    " 1. Sample code number (id number)\n",
    " 2. Clump Thickness\n",
    " 3. Uniformity of Cell Size \n",
    " 4. Uniformity of Cell Shape \n",
    " 5. Marginal Adhesion \n",
    " 6. Single Epithelial Cell Size\n",
    " 7. Bare Nuclei  \n",
    " 8. Bland Chromatin              \n",
    " 9. Normal Nucleoli               \n",
    " 10. Mitoses                       \n",
    " 11. Class: 2 for benign (total benign=458), 4 for malignant (total malignant=241)\n",
    "  \n",
    "Features 2-10 contain values ranging from 1-10."
   ]
  },
  {
   "cell_type": "code",
   "execution_count": 128,
   "metadata": {
    "collapsed": false,
    "scrolled": false
   },
   "outputs": [
    {
     "name": "stdout",
     "output_type": "stream",
     "text": [
      "(699, 11)\n"
     ]
    }
   ],
   "source": [
    "import pandas\n",
    "import numpy as np\n",
    "from sklearn.svm import SVC\n",
    "from sklearn.model_selection import train_test_split\n",
    "from sklearn.metrics import confusion_matrix\n",
    "from sklearn.model_selection import GridSearchCV\n",
    "\n",
    "url = \"https://archive.ics.uci.edu/ml/machine-learning-databases/breast-cancer-wisconsin/breast-cancer-wisconsin.data\"\n",
    "names = ['id', 'clump_thick', 'cell_size', 'cell_shape', 'margin_adh', 'single_size', 'bare_nuclei', 'chromatin', 'norm_nuclei', 'mitosis', 'class']\n",
    "data = pandas.read_csv(url, names=names)\n",
    "print(data.shape)\n",
    "\n",
    "X = data.ix[0:, 1:10]\n",
    "y = data.ix[0:, -1]"
   ]
  },
  {
   "cell_type": "markdown",
   "metadata": {},
   "source": [
    "## Building a Model using SVM\n",
    "\n",
    "First we'll split the data to include testing and training datasets. Using the training data we'll train the model to build future predictions on.\n"
   ]
  },
  {
   "cell_type": "code",
   "execution_count": 129,
   "metadata": {
    "collapsed": false,
    "scrolled": true
   },
   "outputs": [
    {
     "name": "stdout",
     "output_type": "stream",
     "text": [
      "[ 0.5735644  -0.15594009  0.1247745   0.47099306  0.18589666  0.27329992\n",
      "  0.45734291  0.13639168  0.70103449]\n",
      "-8.99078674858\n"
     ]
    }
   ],
   "source": [
    "# replace question mark values in data\n",
    "X.replace(to_replace='?', value=0, inplace=True)\n",
    "\n",
    "# split the training and testing data\n",
    "X_train, X_test, y_train, y_test = train_test_split(X, y, test_size=.3, random_state=0)\n",
    "\n",
    "# generate the SVC model\n",
    "model_orig = SVC(kernel='linear', C=1.0)\n",
    "model_orig.fit(X_train, y_train)\n",
    "\n",
    "w = model_orig.coef_[0]\n",
    "print(w)\n",
    "print(model_orig.intercept_[0])"
   ]
  },
  {
   "cell_type": "markdown",
   "metadata": {},
   "source": [
    "## Testing for Accuracy using a Confusion Matrix\n",
    "\n",
    "Now we can use the X_test to test the accuracy of the SVC model."
   ]
  },
  {
   "cell_type": "code",
   "execution_count": 130,
   "metadata": {
    "collapsed": false
   },
   "outputs": [
    {
     "name": "stdout",
     "output_type": "stream",
     "text": [
      "[[129   6]\n",
      " [  4  71]]\n"
     ]
    }
   ],
   "source": [
    "pred = model_orig.predict(X_test)\n",
    "c_matrix = confusion_matrix(y_test, pred)\n",
    "\n",
    "print(c_matrix)"
   ]
  },
  {
   "cell_type": "markdown",
   "metadata": {},
   "source": [
    "Based on the results, we see that there are only 10 out of 210 instances when the model mispredicted the results. To futher improve the accuracy we can test a variety of C and gamma parameters:"
   ]
  },
  {
   "cell_type": "code",
   "execution_count": 131,
   "metadata": {
    "collapsed": false
   },
   "outputs": [
    {
     "name": "stdout",
     "output_type": "stream",
     "text": [
      "{'kernel': 'rbf', 'C': 1, 'gamma': 0.01}\n",
      "[[127   8]\n",
      " [  3  72]]\n"
     ]
    }
   ],
   "source": [
    "param = {'kernel': ('linear', 'rbf'), 'C':[1,2,3,4,5,6,7,8,9,10], 'gamma':[0.01,0.02,0.03,0.04,0.05]}\n",
    "model_alt = svm.SVC()\n",
    "grid = GridSearchCV(model_alt, param)\n",
    "grid.fit(X_train, y_train)\n",
    "pred_alt = grid.predict(X_test)\n",
    "print(grid.best_params_)\n",
    "\n",
    "c_matrix = confusion_matrix(y_test, pred_alt)\n",
    "print(c_matrix)"
   ]
  },
  {
   "cell_type": "markdown",
   "metadata": {},
   "source": [
    "Using the grid search method, we found 11 out of 210 mispredicted results. A radial basis function was used instead of the linear function, in order to improve the number of true positives from 71 to 72. Based on these results however, the original model is more appropriate:\n",
    "\n",
    "Original Linear Model:\n",
    "* Accuracy: 0.95\n",
    "\n",
    "* Misclassification rate: 0.05\n",
    "\n",
    "* Recall: 0.94\n",
    "\n",
    "* Precision: 0.98\n",
    "\n",
    "* F1-measure: 0.48\n"
   ]
  }
 ],
 "metadata": {
  "anaconda-cloud": {},
  "kernelspec": {
   "display_name": "Python [default]",
   "language": "python",
   "name": "python3"
  },
  "language_info": {
   "codemirror_mode": {
    "name": "ipython",
    "version": 3
   },
   "file_extension": ".py",
   "mimetype": "text/x-python",
   "name": "python",
   "nbconvert_exporter": "python",
   "pygments_lexer": "ipython3",
   "version": "3.5.2"
  }
 },
 "nbformat": 4,
 "nbformat_minor": 1
}
